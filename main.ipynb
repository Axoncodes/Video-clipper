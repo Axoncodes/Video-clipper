{
 "cells": [
  {
   "cell_type": "code",
   "execution_count": null,
   "metadata": {},
   "outputs": [],
   "source": [
    "from moviepy.editor import VideoFileClip\n",
    "import re\n",
    "import os"
   ]
  },
  {
   "cell_type": "code",
   "execution_count": null,
   "metadata": {},
   "outputs": [],
   "source": [
    "def split_movie_by_subtitles(srt_file, movie_file, output_directory):\n",
    "    # Create output directory if it doesn't exist\n",
    "    if not os.path.exists(output_directory):\n",
    "        os.makedirs(output_directory)\n",
    "\n",
    "    # Read SRT file\n",
    "    with open(srt_file, 'r') as file:\n",
    "        srt_content = file.read()\n",
    "\n",
    "    # Split SRT content into subtitle blocks\n",
    "    subtitle_blocks = re.split(r'\\n\\s*\\n', srt_content)\n",
    "\n",
    "    # Read movie duration\n",
    "    video = VideoFileClip(movie_file)\n",
    "    duration = video.duration\n",
    "\n",
    "    # Process subtitle blocks\n",
    "    for i, subtitle_block in enumerate(subtitle_blocks):\n",
    "        # Extract start and end time from subtitle block\n",
    "        time_pattern = re.compile(r'(\\d+):(\\d+):(\\d+),(\\d+)\\s*-->\\s*(\\d+):(\\d+):(\\d+),(\\d+)')\n",
    "        matches = time_pattern.search(subtitle_block)\n",
    "        if matches:\n",
    "            start_time = int(matches.group(1)) * 3600 + int(matches.group(2)) * 60 + int(matches.group(3)) + int(\n",
    "                matches.group(4)) / 1000\n",
    "            end_time = int(matches.group(5)) * 3600 + int(matches.group(6)) * 60 + int(matches.group(7)) + int(\n",
    "                matches.group(8)) / 1000\n",
    "\n",
    "            # Extract subtitle text and combine multi-line subtitles\n",
    "            subtitle_lines = subtitle_block.split('\\n')[2:]\n",
    "            subtitle_text = ' '.join(subtitle_lines)\n",
    "            subtitle_text = ''.join([char for char in subtitle_text if not char.isdigit() and char.isalpha() or char.isspace()])\n",
    "            index = i + 1\n",
    "            # Create clip filename based on subtitle\n",
    "            clip_filename = str(index)+\". \"+subtitle_text+\".mp4\"\n",
    "            wav_filename = str(index)+\". \"+subtitle_text+\".wav\"\n",
    "\n",
    "            # Ensure the start and end times are within the movie duration\n",
    "            start_time = max(start_time, 0)\n",
    "            end_time = min(end_time, duration)\n",
    "\n",
    "            # Extract the clip\n",
    "            clip = video.subclip(start_time, end_time)\n",
    "            clip.write_videofile(os.path.join(output_directory, clip_filename), codec=\"libx264\")\n",
    "            clip.audio.write_audiofile(os.path.join(output_directory, wav_filename))\n",
    "\n",
    "            print(f\"Clip {clip_filename} extracted from {start_time} to {end_time} seconds.\")\n",
    "\n",
    "    video.reader.close()\n"
   ]
  },
  {
   "cell_type": "code",
   "execution_count": null,
   "metadata": {},
   "outputs": [],
   "source": [
    "split_movie_by_subtitles(\n",
    "    # the video subtitle file path\n",
    "    \"Iron.Man.3.5.1.EnSub.2013BD1080p_SharePirate.srt\",\n",
    "    # the video file path\n",
    "    \"Iron.Man.3.2013.BluRay 1080p.mkv\",\n",
    "    \"output\"\n",
    ")"
   ]
  }
 ],
 "metadata": {
  "kernelspec": {
   "display_name": "base",
   "language": "python",
   "name": "python3"
  },
  "language_info": {
   "codemirror_mode": {
    "name": "ipython",
    "version": 3
   },
   "file_extension": ".py",
   "mimetype": "text/x-python",
   "name": "python",
   "nbconvert_exporter": "python",
   "pygments_lexer": "ipython3",
   "version": "3.9.16"
  },
  "orig_nbformat": 4
 },
 "nbformat": 4,
 "nbformat_minor": 2
}
